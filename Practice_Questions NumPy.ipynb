{
 "cells": [
  {
   "cell_type": "markdown",
   "id": "f2ea391b",
   "metadata": {},
   "source": [
    "# NumPy Basic Practice Questions\n",
    "\n",
    "<img src=\"https://i.imgur.com/dZ1XE9o.png\" width=400>\n"
   ]
  },
  {
   "cell_type": "markdown",
   "id": "1fa093c5",
   "metadata": {},
   "source": [
    "Q.1) Given an nxn array, print only the elements that are greater than three as a 1D array.\n",
    "\n",
    "Input: nxn array\n",
    "\n",
    "Output: 1D array containing elements that are greater than 3\n",
    "\n",
    "Sample Input 1: [[9,8,7],[6,5,4],[3,2,1]]\n",
    "\n",
    "Sample Output 1: [9 8 7 6 5 4]\n",
    "\n",
    "Sample Input 2: [[-1, 2, 0],[1,3,5],[3,2,1]]\n",
    "\n",
    "Sample Output 2: [5]"
   ]
  },
  {
   "cell_type": "code",
   "execution_count": 1,
   "id": "814af263",
   "metadata": {},
   "outputs": [
    {
     "name": "stdout",
     "output_type": "stream",
     "text": [
      "[[9,8,7],[6,5,4],[3,2,1]]\n",
      "[9 8 7 6 5 4]\n"
     ]
    }
   ],
   "source": [
    "import numpy as np\n",
    "import ast\n",
    "inp_list=ast.literal_eval(input())\n",
    "arr=np.array(inp_list)\n",
    "print(arr[arr>3])"
   ]
  },
  {
   "cell_type": "code",
   "execution_count": null,
   "id": "07b431b2",
   "metadata": {},
   "outputs": [],
   "source": []
  },
  {
   "cell_type": "markdown",
   "id": "ab8b63d8",
   "metadata": {},
   "source": [
    "Q.2) Calculate the 60th percentile of the given NumPy array.\n",
    "\n",
    "Input: 1D array\n",
    "\n",
    "Output: Value of 60th percentile rounded off to two decimal places\n",
    "\n",
    "Sample Input 1: [11, 22, 33, 44 ,55 ,66, 77]\n",
    "\n",
    "Sample Output 1: 50.6\n",
    "\n",
    "Sample Input 2: [-1, 2, 0, 1, 3, 5, 3, 2, 1]\n",
    "\n",
    "Sample Output 2: 2.0"
   ]
  },
  {
   "cell_type": "code",
   "execution_count": 2,
   "id": "25330908",
   "metadata": {},
   "outputs": [
    {
     "name": "stdout",
     "output_type": "stream",
     "text": [
      "[11, 22, 33, 44 ,55 ,66, 77]\n",
      "50.6\n"
     ]
    }
   ],
   "source": [
    "import numpy as np\n",
    "import ast\n",
    "arr = np.array(ast.literal_eval(input()))\n",
    "res = round(np.percentile(arr,60),2)\n",
    "print(res)"
   ]
  },
  {
   "cell_type": "code",
   "execution_count": null,
   "id": "0e97fafb",
   "metadata": {},
   "outputs": [],
   "source": []
  },
  {
   "cell_type": "markdown",
   "id": "9c68cd73",
   "metadata": {},
   "source": [
    "Q.3) Given a positive integer 'n', write a program that computes the mean, the standard deviation and the variance of the numbers starting from 0 to n-1, rounded off to two decimal places.\n",
    "\n",
    "Sample Input 1: 16\n",
    "\n",
    "Sample Output 1: \n",
    "\n",
    "7.5\n",
    "\n",
    "4.61\n",
    "\n",
    "21.25\n",
    "\n",
    "Explanation: 7.5, 4.61, and 21.5 are the mean, standard deviation and variance of the list of numbers from 0 to 15(included).\n"
   ]
  },
  {
   "cell_type": "code",
   "execution_count": 3,
   "id": "62925fd0",
   "metadata": {},
   "outputs": [
    {
     "name": "stdout",
     "output_type": "stream",
     "text": [
      "16\n",
      "Mean: 7.5\n",
      "Standard deviation: 4.61\n",
      "Variance: 21.25\n"
     ]
    }
   ],
   "source": [
    "n=int(input())\n",
    "array = np.arange(n)\n",
    "mean = array.mean()\n",
    "std = array.std()\n",
    "variance = array.var()\n",
    "print(f'Mean: {round(mean,2)}')\n",
    "print(f'Standard deviation: {round(std,2)}')\n",
    "print(f'Variance: {round(variance,2)}')"
   ]
  },
  {
   "cell_type": "code",
   "execution_count": null,
   "id": "cbb47767",
   "metadata": {},
   "outputs": [],
   "source": []
  },
  {
   "cell_type": "markdown",
   "id": "639e15d5",
   "metadata": {},
   "source": [
    "Q.4) Given a single positive integer 'n' greater than 2, create a NumPy array of size (n x n) will all zeros and ones such that the ones make a shape like 'Z'.\n",
    "Examples:\n",
    "Input 1:\n",
    "3\n",
    "Output 1:\n",
    "\n",
    "[[1 1 1]\n",
    "\n",
    " [0 1 0]\n",
    " \n",
    " [1 1 1]]\n",
    " \n",
    "Input 2:\n",
    "5\n",
    "Output 1:\n",
    "\n",
    "[[1 1 1 1 1]\n",
    "\n",
    " [0 0 0 1 0]\n",
    " \n",
    " [0 0 1 0 0]\n",
    " \n",
    " [0 1 0 0 0]\n",
    " \n",
    " [1 1 1 1 1]]\n",
    "\n",
    "Explanation: Notice that the 1s in the array make a shape like 'Z'."
   ]
  },
  {
   "cell_type": "code",
   "execution_count": 4,
   "id": "ae8773a7",
   "metadata": {},
   "outputs": [
    {
     "name": "stdout",
     "output_type": "stream",
     "text": [
      "5\n",
      "[[1 1 1 1 1]\n",
      " [0 0 0 1 0]\n",
      " [0 0 1 0 0]\n",
      " [0 1 0 0 0]\n",
      " [1 1 1 1 1]]\n"
     ]
    }
   ],
   "source": [
    "n = int(input())\n",
    "arr = np.zeros((n,n), dtype=int)\n",
    "arr[0,:] = 1\n",
    "arr[-1,:] = 1\n",
    "for i in range(1,n-1):\n",
    "    arr[i,-(i+1)] = 1\n",
    "print(arr)\n"
   ]
  },
  {
   "cell_type": "code",
   "execution_count": null,
   "id": "da6e40ee",
   "metadata": {},
   "outputs": [],
   "source": []
  },
  {
   "cell_type": "markdown",
   "id": "c6616e8b",
   "metadata": {},
   "source": [
    "Q.5) Given a 2D NumPy array, sort it by the 1st column. Print the final sorted array as a NumPy array only.\n",
    "\n",
    "Note: If two values in the 1st column are equal then the column in which the 2nd column value is lesser should come first. If the value in the second column is also the same then go to the third value and so on.\n",
    "\n",
    "Example:\n",
    "Input 1:\n",
    "\n",
    "[[9 3 2]\n",
    "\n",
    " [4 0 1]\n",
    " \n",
    " [5 8 6]]\n",
    " \n",
    "Output 2:\n",
    "\n",
    "[[4 0 1]\n",
    "\n",
    " [5 8 6]\n",
    " \n",
    " [9 3 2]]\n",
    " \n",
    "Input 2:\n",
    "\n",
    "[[9 3 2]\n",
    "\n",
    " [4 0 1]\n",
    " \n",
    " [9 8 6]]\n",
    " \n",
    "Output 2:\n",
    "\n",
    "[[4 0 1]\n",
    "\n",
    " [9 3 2]\n",
    " \n",
    " [9 8 6]]\n",
    "\n",
    "Explanation:\n",
    "Example 1: Notice that the values in the first column are sorted. Also notice that the whole row should be moved and not just the individual values in the first column. For example, the row with the smallest value, i.e. 4 was moved as a whole. "
   ]
  },
  {
   "cell_type": "code",
   "execution_count": 5,
   "id": "53936437",
   "metadata": {},
   "outputs": [
    {
     "name": "stdout",
     "output_type": "stream",
     "text": [
      "[[9,3,2],[4,0,1],[5,8,6]]\n",
      "[[4 0 1]\n",
      " [5 8 6]\n",
      " [9 3 2]]\n"
     ]
    }
   ],
   "source": [
    "# arr = np.array([[9,3,2],[4,0,1],[5,8,6]])\n",
    "input_list = ast.literal_eval(input())\n",
    "\n",
    "arr = np.array(input_list)\n",
    "sorted_indices = np.lexsort(arr[:, ::-1].T)\n",
    "\n",
    "sorted_arr = arr[sorted_indices]\n",
    "\n",
    "print(sorted_arr)\n"
   ]
  },
  {
   "cell_type": "code",
   "execution_count": null,
   "id": "42296040",
   "metadata": {},
   "outputs": [],
   "source": []
  }
 ],
 "metadata": {
  "kernelspec": {
   "display_name": "Python 3 (ipykernel)",
   "language": "python",
   "name": "python3"
  },
  "language_info": {
   "codemirror_mode": {
    "name": "ipython",
    "version": 3
   },
   "file_extension": ".py",
   "mimetype": "text/x-python",
   "name": "python",
   "nbconvert_exporter": "python",
   "pygments_lexer": "ipython3",
   "version": "3.9.12"
  }
 },
 "nbformat": 4,
 "nbformat_minor": 5
}
